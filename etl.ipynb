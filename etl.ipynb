{
 "cells": [
  {
   "cell_type": "markdown",
   "metadata": {},
   "source": [
    "# ETL Processes\n",
    "Use this notebook to develop the ETL process for each of your tables before completing the `etl.py` file to load the whole datasets."
   ]
  },
  {
   "cell_type": "code",
   "execution_count": 1,
   "metadata": {},
   "outputs": [],
   "source": [
    "import os\n",
    "import glob\n",
    "import psycopg2\n",
    "import pandas as pd\n",
    "from sql_queries import *"
   ]
  },
  {
   "cell_type": "code",
   "execution_count": 2,
   "metadata": {},
   "outputs": [
    {
     "name": "stdout",
     "output_type": "stream",
     "text": "0.25.3\n"
    }
   ],
   "source": [
    "print(pd.__version__)"
   ]
  },
  {
   "cell_type": "code",
   "execution_count": 3,
   "metadata": {},
   "outputs": [],
   "source": [
    "conn = psycopg2.connect(\"host=127.0.0.1 dbname=sparkifydb user=postgres password=postgres\")\n",
    "cur = conn.cursor()"
   ]
  },
  {
   "cell_type": "code",
   "execution_count": 4,
   "metadata": {},
   "outputs": [],
   "source": [
    "def get_files(filepath):\n",
    "    all_files = []\n",
    "    for root, dirs, files in os.walk(filepath):\n",
    "        files = glob.glob(os.path.join(root,'*.json'))\n",
    "        for f in files :\n",
    "            all_files.append(os.path.abspath(f))\n",
    "    \n",
    "    return all_files"
   ]
  },
  {
   "cell_type": "markdown",
   "metadata": {},
   "source": [
    "# Process `song_data`\n",
    "In this first part, you'll perform ETL on the first dataset, `song_data`, to create the `songs` and `artists` dimensional tables.\n",
    "\n",
    "Let's perform ETL on a single song file and load a single record into each table to start.\n",
    "- Use the `get_files` function provided above to get a list of all song JSON files in `data/song_data`\n",
    "- Select the first song in this list\n",
    "- Read the song file and view the data"
   ]
  },
  {
   "cell_type": "code",
   "execution_count": 27,
   "metadata": {},
   "outputs": [
    {
     "data": {
      "text/plain": "['d:\\\\Projects 2019\\\\06-data-eng\\\\02-coursework\\\\de-nanodegree\\\\de-nano-projects\\\\de-nano-project-1\\\\data\\\\song_data\\\\A\\\\A\\\\A\\\\TRAAAAW128F429D538.json',\n 'd:\\\\Projects 2019\\\\06-data-eng\\\\02-coursework\\\\de-nanodegree\\\\de-nano-projects\\\\de-nano-project-1\\\\data\\\\song_data\\\\A\\\\A\\\\A\\\\TRAAABD128F429CF47.json',\n 'd:\\\\Projects 2019\\\\06-data-eng\\\\02-coursework\\\\de-nanodegree\\\\de-nano-projects\\\\de-nano-project-1\\\\data\\\\song_data\\\\A\\\\A\\\\A\\\\TRAAADZ128F9348C2E.json',\n 'd:\\\\Projects 2019\\\\06-data-eng\\\\02-coursework\\\\de-nanodegree\\\\de-nano-projects\\\\de-nano-project-1\\\\data\\\\song_data\\\\A\\\\A\\\\A\\\\TRAAAEF128F4273421.json',\n 'd:\\\\Projects 2019\\\\06-data-eng\\\\02-coursework\\\\de-nanodegree\\\\de-nano-projects\\\\de-nano-project-1\\\\data\\\\song_data\\\\A\\\\A\\\\A\\\\TRAAAFD128F92F423A.json',\n 'd:\\\\Projects 2019\\\\06-data-eng\\\\02-coursework\\\\de-nanodegree\\\\de-nano-projects\\\\de-nano-project-1\\\\data\\\\song_data\\\\A\\\\A\\\\A\\\\TRAAAMO128F1481E7F.json',\n 'd:\\\\Projects 2019\\\\06-data-eng\\\\02-coursework\\\\de-nanodegree\\\\de-nano-projects\\\\de-nano-project-1\\\\data\\\\song_data\\\\A\\\\A\\\\A\\\\TRAAAMQ128F1460CD3.json',\n 'd:\\\\Projects 2019\\\\06-data-eng\\\\02-coursework\\\\de-nanodegree\\\\de-nano-projects\\\\de-nano-project-1\\\\data\\\\song_data\\\\A\\\\A\\\\A\\\\TRAAAPK128E0786D96.json',\n 'd:\\\\Projects 2019\\\\06-data-eng\\\\02-coursework\\\\de-nanodegree\\\\de-nano-projects\\\\de-nano-project-1\\\\data\\\\song_data\\\\A\\\\A\\\\A\\\\TRAAARJ128F9320760.json',\n 'd:\\\\Projects 2019\\\\06-data-eng\\\\02-coursework\\\\de-nanodegree\\\\de-nano-projects\\\\de-nano-project-1\\\\data\\\\song_data\\\\A\\\\A\\\\A\\\\TRAAAVG12903CFA543.json',\n 'd:\\\\Projects 2019\\\\06-data-eng\\\\02-coursework\\\\de-nanodegree\\\\de-nano-projects\\\\de-nano-project-1\\\\data\\\\song_data\\\\A\\\\A\\\\A\\\\TRAAAVO128F93133D4.json',\n 'd:\\\\Projects 2019\\\\06-data-eng\\\\02-coursework\\\\de-nanodegree\\\\de-nano-projects\\\\de-nano-project-1\\\\data\\\\song_data\\\\A\\\\A\\\\B\\\\TRAABCL128F4286650.json',\n 'd:\\\\Projects 2019\\\\06-data-eng\\\\02-coursework\\\\de-nanodegree\\\\de-nano-projects\\\\de-nano-project-1\\\\data\\\\song_data\\\\A\\\\A\\\\B\\\\TRAABDL12903CAABBA.json',\n 'd:\\\\Projects 2019\\\\06-data-eng\\\\02-coursework\\\\de-nanodegree\\\\de-nano-projects\\\\de-nano-project-1\\\\data\\\\song_data\\\\A\\\\A\\\\B\\\\TRAABJL12903CDCF1A.json',\n 'd:\\\\Projects 2019\\\\06-data-eng\\\\02-coursework\\\\de-nanodegree\\\\de-nano-projects\\\\de-nano-project-1\\\\data\\\\song_data\\\\A\\\\A\\\\B\\\\TRAABJV128F1460C49.json',\n 'd:\\\\Projects 2019\\\\06-data-eng\\\\02-coursework\\\\de-nanodegree\\\\de-nano-projects\\\\de-nano-project-1\\\\data\\\\song_data\\\\A\\\\A\\\\B\\\\TRAABLR128F423B7E3.json',\n 'd:\\\\Projects 2019\\\\06-data-eng\\\\02-coursework\\\\de-nanodegree\\\\de-nano-projects\\\\de-nano-project-1\\\\data\\\\song_data\\\\A\\\\A\\\\B\\\\TRAABNV128F425CEE1.json',\n 'd:\\\\Projects 2019\\\\06-data-eng\\\\02-coursework\\\\de-nanodegree\\\\de-nano-projects\\\\de-nano-project-1\\\\data\\\\song_data\\\\A\\\\A\\\\B\\\\TRAABRB128F9306DD5.json',\n 'd:\\\\Projects 2019\\\\06-data-eng\\\\02-coursework\\\\de-nanodegree\\\\de-nano-projects\\\\de-nano-project-1\\\\data\\\\song_data\\\\A\\\\A\\\\B\\\\TRAABVM128F92CA9DC.json',\n 'd:\\\\Projects 2019\\\\06-data-eng\\\\02-coursework\\\\de-nanodegree\\\\de-nano-projects\\\\de-nano-project-1\\\\data\\\\song_data\\\\A\\\\A\\\\B\\\\TRAABXG128F9318EBD.json',\n 'd:\\\\Projects 2019\\\\06-data-eng\\\\02-coursework\\\\de-nanodegree\\\\de-nano-projects\\\\de-nano-project-1\\\\data\\\\song_data\\\\A\\\\A\\\\B\\\\TRAABYN12903CFD305.json',\n 'd:\\\\Projects 2019\\\\06-data-eng\\\\02-coursework\\\\de-nanodegree\\\\de-nano-projects\\\\de-nano-project-1\\\\data\\\\song_data\\\\A\\\\A\\\\B\\\\TRAABYW128F4244559.json',\n 'd:\\\\Projects 2019\\\\06-data-eng\\\\02-coursework\\\\de-nanodegree\\\\de-nano-projects\\\\de-nano-project-1\\\\data\\\\song_data\\\\A\\\\A\\\\C\\\\TRAACCG128F92E8A55.json',\n 'd:\\\\Projects 2019\\\\06-data-eng\\\\02-coursework\\\\de-nanodegree\\\\de-nano-projects\\\\de-nano-project-1\\\\data\\\\song_data\\\\A\\\\A\\\\C\\\\TRAACER128F4290F96.json',\n 'd:\\\\Projects 2019\\\\06-data-eng\\\\02-coursework\\\\de-nanodegree\\\\de-nano-projects\\\\de-nano-project-1\\\\data\\\\song_data\\\\A\\\\A\\\\C\\\\TRAACFV128F935E50B.json',\n 'd:\\\\Projects 2019\\\\06-data-eng\\\\02-coursework\\\\de-nanodegree\\\\de-nano-projects\\\\de-nano-project-1\\\\data\\\\song_data\\\\A\\\\A\\\\C\\\\TRAACHN128F1489601.json',\n 'd:\\\\Projects 2019\\\\06-data-eng\\\\02-coursework\\\\de-nanodegree\\\\de-nano-projects\\\\de-nano-project-1\\\\data\\\\song_data\\\\A\\\\A\\\\C\\\\TRAACIW12903CC0F6D.json',\n 'd:\\\\Projects 2019\\\\06-data-eng\\\\02-coursework\\\\de-nanodegree\\\\de-nano-projects\\\\de-nano-project-1\\\\data\\\\song_data\\\\A\\\\A\\\\C\\\\TRAACLV128F427E123.json',\n 'd:\\\\Projects 2019\\\\06-data-eng\\\\02-coursework\\\\de-nanodegree\\\\de-nano-projects\\\\de-nano-project-1\\\\data\\\\song_data\\\\A\\\\A\\\\C\\\\TRAACNS128F14A2DF5.json',\n 'd:\\\\Projects 2019\\\\06-data-eng\\\\02-coursework\\\\de-nanodegree\\\\de-nano-projects\\\\de-nano-project-1\\\\data\\\\song_data\\\\A\\\\A\\\\C\\\\TRAACOW128F933E35F.json',\n 'd:\\\\Projects 2019\\\\06-data-eng\\\\02-coursework\\\\de-nanodegree\\\\de-nano-projects\\\\de-nano-project-1\\\\data\\\\song_data\\\\A\\\\A\\\\C\\\\TRAACPE128F421C1B9.json',\n 'd:\\\\Projects 2019\\\\06-data-eng\\\\02-coursework\\\\de-nanodegree\\\\de-nano-projects\\\\de-nano-project-1\\\\data\\\\song_data\\\\A\\\\A\\\\C\\\\TRAACQT128F9331780.json',\n 'd:\\\\Projects 2019\\\\06-data-eng\\\\02-coursework\\\\de-nanodegree\\\\de-nano-projects\\\\de-nano-project-1\\\\data\\\\song_data\\\\A\\\\A\\\\C\\\\TRAACSL128F93462F4.json',\n 'd:\\\\Projects 2019\\\\06-data-eng\\\\02-coursework\\\\de-nanodegree\\\\de-nano-projects\\\\de-nano-project-1\\\\data\\\\song_data\\\\A\\\\A\\\\C\\\\TRAACTB12903CAAF15.json',\n 'd:\\\\Projects 2019\\\\06-data-eng\\\\02-coursework\\\\de-nanodegree\\\\de-nano-projects\\\\de-nano-project-1\\\\data\\\\song_data\\\\A\\\\A\\\\C\\\\TRAACVS128E078BE39.json',\n 'd:\\\\Projects 2019\\\\06-data-eng\\\\02-coursework\\\\de-nanodegree\\\\de-nano-projects\\\\de-nano-project-1\\\\data\\\\song_data\\\\A\\\\A\\\\C\\\\TRAACZK128F4243829.json',\n 'd:\\\\Projects 2019\\\\06-data-eng\\\\02-coursework\\\\de-nanodegree\\\\de-nano-projects\\\\de-nano-project-1\\\\data\\\\song_data\\\\A\\\\B\\\\A\\\\TRABACN128F425B784.json',\n 'd:\\\\Projects 2019\\\\06-data-eng\\\\02-coursework\\\\de-nanodegree\\\\de-nano-projects\\\\de-nano-project-1\\\\data\\\\song_data\\\\A\\\\B\\\\A\\\\TRABAFJ128F42AF24E.json',\n 'd:\\\\Projects 2019\\\\06-data-eng\\\\02-coursework\\\\de-nanodegree\\\\de-nano-projects\\\\de-nano-project-1\\\\data\\\\song_data\\\\A\\\\B\\\\A\\\\TRABAFP128F931E9A1.json',\n 'd:\\\\Projects 2019\\\\06-data-eng\\\\02-coursework\\\\de-nanodegree\\\\de-nano-projects\\\\de-nano-project-1\\\\data\\\\song_data\\\\A\\\\B\\\\A\\\\TRABAIO128F42938F9.json',\n 'd:\\\\Projects 2019\\\\06-data-eng\\\\02-coursework\\\\de-nanodegree\\\\de-nano-projects\\\\de-nano-project-1\\\\data\\\\song_data\\\\A\\\\B\\\\A\\\\TRABATO128F42627E9.json',\n 'd:\\\\Projects 2019\\\\06-data-eng\\\\02-coursework\\\\de-nanodegree\\\\de-nano-projects\\\\de-nano-project-1\\\\data\\\\song_data\\\\A\\\\B\\\\A\\\\TRABAVQ12903CBF7E0.json',\n 'd:\\\\Projects 2019\\\\06-data-eng\\\\02-coursework\\\\de-nanodegree\\\\de-nano-projects\\\\de-nano-project-1\\\\data\\\\song_data\\\\A\\\\B\\\\A\\\\TRABAWW128F4250A31.json',\n 'd:\\\\Projects 2019\\\\06-data-eng\\\\02-coursework\\\\de-nanodegree\\\\de-nano-projects\\\\de-nano-project-1\\\\data\\\\song_data\\\\A\\\\B\\\\A\\\\TRABAXL128F424FC50.json',\n 'd:\\\\Projects 2019\\\\06-data-eng\\\\02-coursework\\\\de-nanodegree\\\\de-nano-projects\\\\de-nano-project-1\\\\data\\\\song_data\\\\A\\\\B\\\\A\\\\TRABAXR128F426515F.json',\n 'd:\\\\Projects 2019\\\\06-data-eng\\\\02-coursework\\\\de-nanodegree\\\\de-nano-projects\\\\de-nano-project-1\\\\data\\\\song_data\\\\A\\\\B\\\\A\\\\TRABAXV128F92F6AE3.json',\n 'd:\\\\Projects 2019\\\\06-data-eng\\\\02-coursework\\\\de-nanodegree\\\\de-nano-projects\\\\de-nano-project-1\\\\data\\\\song_data\\\\A\\\\B\\\\A\\\\TRABAZH128F930419A.json',\n 'd:\\\\Projects 2019\\\\06-data-eng\\\\02-coursework\\\\de-nanodegree\\\\de-nano-projects\\\\de-nano-project-1\\\\data\\\\song_data\\\\A\\\\B\\\\B\\\\TRABBAM128F429D223.json',\n 'd:\\\\Projects 2019\\\\06-data-eng\\\\02-coursework\\\\de-nanodegree\\\\de-nano-projects\\\\de-nano-project-1\\\\data\\\\song_data\\\\A\\\\B\\\\B\\\\TRABBBV128F42967D7.json',\n 'd:\\\\Projects 2019\\\\06-data-eng\\\\02-coursework\\\\de-nanodegree\\\\de-nano-projects\\\\de-nano-project-1\\\\data\\\\song_data\\\\A\\\\B\\\\B\\\\TRABBJE12903CDB442.json',\n 'd:\\\\Projects 2019\\\\06-data-eng\\\\02-coursework\\\\de-nanodegree\\\\de-nano-projects\\\\de-nano-project-1\\\\data\\\\song_data\\\\A\\\\B\\\\B\\\\TRABBKX128F4285205.json',\n 'd:\\\\Projects 2019\\\\06-data-eng\\\\02-coursework\\\\de-nanodegree\\\\de-nano-projects\\\\de-nano-project-1\\\\data\\\\song_data\\\\A\\\\B\\\\B\\\\TRABBLU128F93349CF.json',\n 'd:\\\\Projects 2019\\\\06-data-eng\\\\02-coursework\\\\de-nanodegree\\\\de-nano-projects\\\\de-nano-project-1\\\\data\\\\song_data\\\\A\\\\B\\\\B\\\\TRABBNP128F932546F.json',\n 'd:\\\\Projects 2019\\\\06-data-eng\\\\02-coursework\\\\de-nanodegree\\\\de-nano-projects\\\\de-nano-project-1\\\\data\\\\song_data\\\\A\\\\B\\\\B\\\\TRABBOP128F931B50D.json',\n 'd:\\\\Projects 2019\\\\06-data-eng\\\\02-coursework\\\\de-nanodegree\\\\de-nano-projects\\\\de-nano-project-1\\\\data\\\\song_data\\\\A\\\\B\\\\B\\\\TRABBOR128F4286200.json',\n 'd:\\\\Projects 2019\\\\06-data-eng\\\\02-coursework\\\\de-nanodegree\\\\de-nano-projects\\\\de-nano-project-1\\\\data\\\\song_data\\\\A\\\\B\\\\B\\\\TRABBTA128F933D304.json',\n 'd:\\\\Projects 2019\\\\06-data-eng\\\\02-coursework\\\\de-nanodegree\\\\de-nano-projects\\\\de-nano-project-1\\\\data\\\\song_data\\\\A\\\\B\\\\B\\\\TRABBVJ128F92F7EAA.json',\n 'd:\\\\Projects 2019\\\\06-data-eng\\\\02-coursework\\\\de-nanodegree\\\\de-nano-projects\\\\de-nano-project-1\\\\data\\\\song_data\\\\A\\\\B\\\\B\\\\TRABBXU128F92FEF48.json',\n 'd:\\\\Projects 2019\\\\06-data-eng\\\\02-coursework\\\\de-nanodegree\\\\de-nano-projects\\\\de-nano-project-1\\\\data\\\\song_data\\\\A\\\\B\\\\B\\\\TRABBZN12903CD9297.json',\n 'd:\\\\Projects 2019\\\\06-data-eng\\\\02-coursework\\\\de-nanodegree\\\\de-nano-projects\\\\de-nano-project-1\\\\data\\\\song_data\\\\A\\\\B\\\\C\\\\TRABCAJ12903CDFCC2.json',\n 'd:\\\\Projects 2019\\\\06-data-eng\\\\02-coursework\\\\de-nanodegree\\\\de-nano-projects\\\\de-nano-project-1\\\\data\\\\song_data\\\\A\\\\B\\\\C\\\\TRABCEC128F426456E.json',\n 'd:\\\\Projects 2019\\\\06-data-eng\\\\02-coursework\\\\de-nanodegree\\\\de-nano-projects\\\\de-nano-project-1\\\\data\\\\song_data\\\\A\\\\B\\\\C\\\\TRABCEI128F424C983.json',\n 'd:\\\\Projects 2019\\\\06-data-eng\\\\02-coursework\\\\de-nanodegree\\\\de-nano-projects\\\\de-nano-project-1\\\\data\\\\song_data\\\\A\\\\B\\\\C\\\\TRABCFL128F149BB0D.json',\n 'd:\\\\Projects 2019\\\\06-data-eng\\\\02-coursework\\\\de-nanodegree\\\\de-nano-projects\\\\de-nano-project-1\\\\data\\\\song_data\\\\A\\\\B\\\\C\\\\TRABCIX128F4265903.json',\n 'd:\\\\Projects 2019\\\\06-data-eng\\\\02-coursework\\\\de-nanodegree\\\\de-nano-projects\\\\de-nano-project-1\\\\data\\\\song_data\\\\A\\\\B\\\\C\\\\TRABCKL128F423A778.json',\n 'd:\\\\Projects 2019\\\\06-data-eng\\\\02-coursework\\\\de-nanodegree\\\\de-nano-projects\\\\de-nano-project-1\\\\data\\\\song_data\\\\A\\\\B\\\\C\\\\TRABCPZ128F4275C32.json',\n 'd:\\\\Projects 2019\\\\06-data-eng\\\\02-coursework\\\\de-nanodegree\\\\de-nano-projects\\\\de-nano-project-1\\\\data\\\\song_data\\\\A\\\\B\\\\C\\\\TRABCRU128F423F449.json',\n 'd:\\\\Projects 2019\\\\06-data-eng\\\\02-coursework\\\\de-nanodegree\\\\de-nano-projects\\\\de-nano-project-1\\\\data\\\\song_data\\\\A\\\\B\\\\C\\\\TRABCTK128F934B224.json',\n 'd:\\\\Projects 2019\\\\06-data-eng\\\\02-coursework\\\\de-nanodegree\\\\de-nano-projects\\\\de-nano-project-1\\\\data\\\\song_data\\\\A\\\\B\\\\C\\\\TRABCUQ128E0783E2B.json',\n 'd:\\\\Projects 2019\\\\06-data-eng\\\\02-coursework\\\\de-nanodegree\\\\de-nano-projects\\\\de-nano-project-1\\\\data\\\\song_data\\\\A\\\\B\\\\C\\\\TRABCXB128F4286BD3.json',\n 'd:\\\\Projects 2019\\\\06-data-eng\\\\02-coursework\\\\de-nanodegree\\\\de-nano-projects\\\\de-nano-project-1\\\\data\\\\song_data\\\\A\\\\B\\\\C\\\\TRABCYE128F934CE1D.json']"
     },
     "execution_count": 27,
     "metadata": {},
     "output_type": "execute_result"
    }
   ],
   "source": [
    "song_files = get_files(\"data/song_data/\")\n",
    "song_files"
   ]
  },
  {
   "cell_type": "code",
   "execution_count": 28,
   "metadata": {},
   "outputs": [],
   "source": [
    "filepath = \"data/song_data/\""
   ]
  },
  {
   "cell_type": "code",
   "execution_count": 29,
   "metadata": {},
   "outputs": [
    {
     "data": {
      "text/plain": "'d:\\\\Projects 2019\\\\06-data-eng\\\\02-coursework\\\\de-nanodegree\\\\de-nano-projects\\\\de-nano-project-1\\\\data\\\\song_data\\\\A\\\\A\\\\A\\\\TRAAAAW128F429D538.json'"
     },
     "execution_count": 29,
     "metadata": {},
     "output_type": "execute_result"
    }
   ],
   "source": [
    "song_files[0]"
   ]
  },
  {
   "cell_type": "code",
   "execution_count": 30,
   "metadata": {},
   "outputs": [
    {
     "data": {
      "text/plain": "num_songs                            1\nartist_id           ARD7TVE1187B99BFB1\nartist_latitude                   None\nartist_longitude                  None\nartist_location        California - LA\ndtype: object"
     },
     "execution_count": 30,
     "metadata": {},
     "output_type": "execute_result"
    }
   ],
   "source": [
    "df=pd.read_json(song_files[0], typ='series')\n",
    "df.head()"
   ]
  },
  {
   "cell_type": "code",
   "execution_count": 31,
   "metadata": {},
   "outputs": [
    {
     "data": {
      "text/html": "<div>\n<style scoped>\n    .dataframe tbody tr th:only-of-type {\n        vertical-align: middle;\n    }\n\n    .dataframe tbody tr th {\n        vertical-align: top;\n    }\n\n    .dataframe thead th {\n        text-align: right;\n    }\n</style>\n<table border=\"1\" class=\"dataframe\">\n  <thead>\n    <tr style=\"text-align: right;\">\n      <th></th>\n      <th>num_songs</th>\n      <th>artist_id</th>\n      <th>artist_latitude</th>\n      <th>artist_longitude</th>\n      <th>artist_location</th>\n      <th>artist_name</th>\n      <th>song_id</th>\n      <th>title</th>\n      <th>duration</th>\n      <th>year</th>\n    </tr>\n  </thead>\n  <tbody>\n    <tr>\n      <th>0</th>\n      <td>1</td>\n      <td>ARD7TVE1187B99BFB1</td>\n      <td>None</td>\n      <td>None</td>\n      <td>California - LA</td>\n      <td>Casual</td>\n      <td>SOMZWCG12A8C13C480</td>\n      <td>I Didn't Mean To</td>\n      <td>218.93179</td>\n      <td>0</td>\n    </tr>\n  </tbody>\n</table>\n</div>",
      "text/plain": "   num_songs           artist_id artist_latitude artist_longitude  \\\n0          1  ARD7TVE1187B99BFB1            None             None   \n\n   artist_location artist_name             song_id             title  \\\n0  California - LA      Casual  SOMZWCG12A8C13C480  I Didn't Mean To   \n\n    duration  year  \n0  218.93179     0  "
     },
     "execution_count": 31,
     "metadata": {},
     "output_type": "execute_result"
    }
   ],
   "source": [
    "df=pd.DataFrame([pd.read_json(song_files[0], typ='series')])\n",
    "df"
   ]
  },
  {
   "cell_type": "code",
   "execution_count": 32,
   "metadata": {},
   "outputs": [
    {
     "data": {
      "text/plain": "array([[1, 'ARD7TVE1187B99BFB1', None, None, 'California - LA', 'Casual',\n        'SOMZWCG12A8C13C480', \"I Didn't Mean To\", 218.93179, 0]],\n      dtype=object)"
     },
     "execution_count": 32,
     "metadata": {},
     "output_type": "execute_result"
    }
   ],
   "source": [
    "df.values"
   ]
  },
  {
   "cell_type": "code",
   "execution_count": 0,
   "metadata": {},
   "outputs": [],
   "source": [
    "df.dtypes"
   ]
  },
  {
   "cell_type": "code",
   "execution_count": null,
   "metadata": {},
   "outputs": [],
   "source": []
  },
  {
   "cell_type": "markdown",
   "metadata": {},
   "source": [
    "## #1: `songs` Table\n",
    "#### Extract Data for Songs Table\n",
    "- Select columns for song ID, title, artist ID, year, and duration\n",
    "- Use `df.values` to select just the values from the dataframe\n",
    "- Index to select the first (only) record in the dataframe\n",
    "- Convert the array to a list and set it to `song_data`"
   ]
  },
  {
   "cell_type": "code",
   "execution_count": 33,
   "metadata": {},
   "outputs": [
    {
     "data": {
      "text/plain": "['SOMZWCG12A8C13C480', \"I Didn't Mean To\", 'ARD7TVE1187B99BFB1', 0, 218.93179]"
     },
     "execution_count": 33,
     "metadata": {},
     "output_type": "execute_result"
    }
   ],
   "source": [
    "song_data = df[['song_id','title','artist_id','year','duration']].values[0].tolist()\n",
    "song_data"
   ]
  },
  {
   "cell_type": "code",
   "execution_count": 34,
   "metadata": {},
   "outputs": [
    {
     "data": {
      "text/plain": "float"
     },
     "execution_count": 34,
     "metadata": {},
     "output_type": "execute_result"
    }
   ],
   "source": [
    "type(song_data[4])"
   ]
  },
  {
   "cell_type": "markdown",
   "metadata": {},
   "source": [
    "#### Insert Record into Song Table\n",
    "Implement the `song_table_insert` query in `sql_queries.py` and run the cell below to insert a record for this song into the `songs` table. Remember to run `create_tables.py` before running the cell below to ensure you've created/resetted the `songs` table in the sparkify database."
   ]
  },
  {
   "cell_type": "code",
   "execution_count": 35,
   "metadata": {},
   "outputs": [],
   "source": [
    "cur.execute(song_table_insert, song_data)\n",
    "conn.commit()"
   ]
  },
  {
   "cell_type": "code",
   "execution_count": 0,
   "metadata": {},
   "outputs": [],
   "source": [
    "df.dtypes"
   ]
  },
  {
   "cell_type": "markdown",
   "metadata": {},
   "source": [
    "Run `test.ipynb` to see if you've successfully added a record to this table."
   ]
  },
  {
   "cell_type": "markdown",
   "metadata": {},
   "source": [
    "## #2: `artists` Table\n",
    "#### Extract Data for Artists Table\n",
    "- Select columns for artist ID, name, location, latitude, and longitude\n",
    "- Use `df.values` to select just the values from the dataframe\n",
    "- Index to select the first (only) record in the dataframe\n",
    "- Convert the array to a list and set it to `artist_data`"
   ]
  },
  {
   "cell_type": "code",
   "execution_count": 0,
   "metadata": {},
   "outputs": [],
   "source": [
    "artist_data = df[['artist_id','artist_name','artist_location','artist_latitude','artist_longitude']].values[0].tolist()\n",
    "artist_data"
   ]
  },
  {
   "cell_type": "markdown",
   "metadata": {},
   "source": [
    "#### Insert Record into Artist Table\n",
    "Implement the `artist_table_insert` query in `sql_queries.py` and run the cell below to insert a record for this song's artist into the `artists` table. Remember to run `create_tables.py` before running the cell below to ensure you've created/resetted the `artists` table in the sparkify database."
   ]
  },
  {
   "cell_type": "code",
   "execution_count": 36,
   "metadata": {},
   "outputs": [],
   "source": [
    "cur.execute(artist_table_insert, artist_data)\n",
    "conn.commit()"
   ]
  },
  {
   "cell_type": "markdown",
   "metadata": {},
   "source": [
    "Run `test.ipynb` to see if you've successfully added a record to this table."
   ]
  },
  {
   "cell_type": "markdown",
   "metadata": {},
   "source": [
    "# Process `log_data`\n",
    "In this part, you'll perform ETL on the second dataset, `log_data`, to create the `time` and `users` dimensional tables, as well as the `songplays` fact table.\n",
    "\n",
    "Let's perform ETL on a single log file and load a single record into each table.\n",
    "- Use the `get_files` function provided above to get a list of all log JSON files in `data/log_data`\n",
    "- Select the first log file in this list\n",
    "- Read the log file and view the data"
   ]
  },
  {
   "cell_type": "code",
   "execution_count": 37,
   "metadata": {},
   "outputs": [],
   "source": [
    "log_files = get_files('data/log_data/')\n",
    "#log_files"
   ]
  },
  {
   "cell_type": "code",
   "execution_count": 38,
   "metadata": {},
   "outputs": [],
   "source": [
    "filepath = 'data/log_data'"
   ]
  },
  {
   "cell_type": "code",
   "execution_count": 39,
   "metadata": {},
   "outputs": [
    {
     "data": {
      "text/html": "<div>\n<style scoped>\n    .dataframe tbody tr th:only-of-type {\n        vertical-align: middle;\n    }\n\n    .dataframe tbody tr th {\n        vertical-align: top;\n    }\n\n    .dataframe thead th {\n        text-align: right;\n    }\n</style>\n<table border=\"1\" class=\"dataframe\">\n  <thead>\n    <tr style=\"text-align: right;\">\n      <th></th>\n      <th>artist</th>\n      <th>auth</th>\n      <th>firstName</th>\n      <th>gender</th>\n      <th>itemInSession</th>\n      <th>lastName</th>\n      <th>length</th>\n      <th>level</th>\n      <th>location</th>\n      <th>method</th>\n      <th>page</th>\n      <th>registration</th>\n      <th>sessionId</th>\n      <th>song</th>\n      <th>status</th>\n      <th>ts</th>\n      <th>userAgent</th>\n      <th>userId</th>\n    </tr>\n  </thead>\n  <tbody>\n    <tr>\n      <th>0</th>\n      <td>None</td>\n      <td>Logged In</td>\n      <td>Walter</td>\n      <td>M</td>\n      <td>0</td>\n      <td>Frye</td>\n      <td>None</td>\n      <td>free</td>\n      <td>San Francisco-Oakland-Hayward, CA</td>\n      <td>GET</td>\n      <td>Home</td>\n      <td>1.540919e+12</td>\n      <td>38</td>\n      <td>None</td>\n      <td>200</td>\n      <td>1541105830796</td>\n      <td>\"Mozilla/5.0 (Macintosh; Intel Mac OS X 10_9_4...</td>\n      <td>39</td>\n    </tr>\n  </tbody>\n</table>\n</div>",
      "text/plain": "  artist       auth firstName gender  itemInSession lastName length level  \\\n0   None  Logged In    Walter      M              0     Frye   None  free   \n\n                            location method  page  registration  sessionId  \\\n0  San Francisco-Oakland-Hayward, CA    GET  Home  1.540919e+12         38   \n\n   song  status             ts  \\\n0  None     200  1541105830796   \n\n                                           userAgent userId  \n0  \"Mozilla/5.0 (Macintosh; Intel Mac OS X 10_9_4...     39  "
     },
     "execution_count": 39,
     "metadata": {},
     "output_type": "execute_result"
    }
   ],
   "source": [
    "df=pd.read_json(log_files[0], typ='series', lines=True)\n",
    "df=pd.DataFrame([df.iloc[0]])\n",
    "df"
   ]
  },
  {
   "cell_type": "code",
   "execution_count": null,
   "metadata": {},
   "outputs": [],
   "source": []
  },
  {
   "cell_type": "markdown",
   "metadata": {},
   "source": [
    "## #3: `time` Table\n",
    "#### Extract Data for Time Table\n",
    "- Filter records by `NextSong` action\n",
    "- Convert the `ts` timestamp column to datetime\n",
    "  - Hint: the current timestamp is in milliseconds\n",
    "- Extract the timestamp, hour, day, week of year, month, year, and weekday from the `ts` column and set `time_data` to a list containing these values in order\n",
    "  - Hint: use pandas' [`dt` attribute](https://pandas.pydata.org/pandas-docs/stable/reference/api/pandas.Series.dt.html) to access easily datetimelike properties.\n",
    "- Specify labels for these columns and set to `column_labels`\n",
    "- Create a dataframe, `time_df,` containing the time data for this file by combining `column_labels` and `time_data` into a dictionary and converting this into a dataframe"
   ]
  },
  {
   "cell_type": "code",
   "execution_count": 40,
   "metadata": {},
   "outputs": [
    {
     "data": {
      "text/html": "<div>\n<style scoped>\n    .dataframe tbody tr th:only-of-type {\n        vertical-align: middle;\n    }\n\n    .dataframe tbody tr th {\n        vertical-align: top;\n    }\n\n    .dataframe thead th {\n        text-align: right;\n    }\n</style>\n<table border=\"1\" class=\"dataframe\">\n  <thead>\n    <tr style=\"text-align: right;\">\n      <th></th>\n      <th>artist</th>\n      <th>auth</th>\n      <th>firstName</th>\n      <th>gender</th>\n      <th>itemInSession</th>\n      <th>lastName</th>\n      <th>length</th>\n      <th>level</th>\n      <th>location</th>\n      <th>method</th>\n      <th>page</th>\n      <th>registration</th>\n      <th>sessionId</th>\n      <th>song</th>\n      <th>status</th>\n      <th>ts</th>\n      <th>userAgent</th>\n      <th>userId</th>\n    </tr>\n  </thead>\n  <tbody>\n    <tr>\n      <th>0</th>\n      <td>None</td>\n      <td>Logged In</td>\n      <td>Walter</td>\n      <td>M</td>\n      <td>0</td>\n      <td>Frye</td>\n      <td>NaN</td>\n      <td>free</td>\n      <td>San Francisco-Oakland-Hayward, CA</td>\n      <td>GET</td>\n      <td>Home</td>\n      <td>1540919166796</td>\n      <td>38</td>\n      <td>None</td>\n      <td>200</td>\n      <td>1541105830796</td>\n      <td>\"Mozilla/5.0 (Macintosh; Intel Mac OS X 10_9_4...</td>\n      <td>39</td>\n    </tr>\n    <tr>\n      <th>1</th>\n      <td>None</td>\n      <td>Logged In</td>\n      <td>Kaylee</td>\n      <td>F</td>\n      <td>0</td>\n      <td>Summers</td>\n      <td>NaN</td>\n      <td>free</td>\n      <td>Phoenix-Mesa-Scottsdale, AZ</td>\n      <td>GET</td>\n      <td>Home</td>\n      <td>1540344794796</td>\n      <td>139</td>\n      <td>None</td>\n      <td>200</td>\n      <td>1541106106796</td>\n      <td>\"Mozilla/5.0 (Windows NT 6.1; WOW64) AppleWebK...</td>\n      <td>8</td>\n    </tr>\n    <tr>\n      <th>2</th>\n      <td>Des'ree</td>\n      <td>Logged In</td>\n      <td>Kaylee</td>\n      <td>F</td>\n      <td>1</td>\n      <td>Summers</td>\n      <td>246.30812</td>\n      <td>free</td>\n      <td>Phoenix-Mesa-Scottsdale, AZ</td>\n      <td>PUT</td>\n      <td>NextSong</td>\n      <td>1540344794796</td>\n      <td>139</td>\n      <td>You Gotta Be</td>\n      <td>200</td>\n      <td>1541106106796</td>\n      <td>\"Mozilla/5.0 (Windows NT 6.1; WOW64) AppleWebK...</td>\n      <td>8</td>\n    </tr>\n    <tr>\n      <th>3</th>\n      <td>None</td>\n      <td>Logged In</td>\n      <td>Kaylee</td>\n      <td>F</td>\n      <td>2</td>\n      <td>Summers</td>\n      <td>NaN</td>\n      <td>free</td>\n      <td>Phoenix-Mesa-Scottsdale, AZ</td>\n      <td>GET</td>\n      <td>Upgrade</td>\n      <td>1540344794796</td>\n      <td>139</td>\n      <td>None</td>\n      <td>200</td>\n      <td>1541106132796</td>\n      <td>\"Mozilla/5.0 (Windows NT 6.1; WOW64) AppleWebK...</td>\n      <td>8</td>\n    </tr>\n    <tr>\n      <th>4</th>\n      <td>Mr Oizo</td>\n      <td>Logged In</td>\n      <td>Kaylee</td>\n      <td>F</td>\n      <td>3</td>\n      <td>Summers</td>\n      <td>144.03873</td>\n      <td>free</td>\n      <td>Phoenix-Mesa-Scottsdale, AZ</td>\n      <td>PUT</td>\n      <td>NextSong</td>\n      <td>1540344794796</td>\n      <td>139</td>\n      <td>Flat 55</td>\n      <td>200</td>\n      <td>1541106352796</td>\n      <td>\"Mozilla/5.0 (Windows NT 6.1; WOW64) AppleWebK...</td>\n      <td>8</td>\n    </tr>\n  </tbody>\n</table>\n</div>",
      "text/plain": "    artist       auth firstName gender  itemInSession lastName     length  \\\n0     None  Logged In    Walter      M              0     Frye        NaN   \n1     None  Logged In    Kaylee      F              0  Summers        NaN   \n2  Des'ree  Logged In    Kaylee      F              1  Summers  246.30812   \n3     None  Logged In    Kaylee      F              2  Summers        NaN   \n4  Mr Oizo  Logged In    Kaylee      F              3  Summers  144.03873   \n\n  level                           location method      page   registration  \\\n0  free  San Francisco-Oakland-Hayward, CA    GET      Home  1540919166796   \n1  free        Phoenix-Mesa-Scottsdale, AZ    GET      Home  1540344794796   \n2  free        Phoenix-Mesa-Scottsdale, AZ    PUT  NextSong  1540344794796   \n3  free        Phoenix-Mesa-Scottsdale, AZ    GET   Upgrade  1540344794796   \n4  free        Phoenix-Mesa-Scottsdale, AZ    PUT  NextSong  1540344794796   \n\n   sessionId          song  status             ts  \\\n0         38          None     200  1541105830796   \n1        139          None     200  1541106106796   \n2        139  You Gotta Be     200  1541106106796   \n3        139          None     200  1541106132796   \n4        139       Flat 55     200  1541106352796   \n\n                                           userAgent  userId  \n0  \"Mozilla/5.0 (Macintosh; Intel Mac OS X 10_9_4...      39  \n1  \"Mozilla/5.0 (Windows NT 6.1; WOW64) AppleWebK...       8  \n2  \"Mozilla/5.0 (Windows NT 6.1; WOW64) AppleWebK...       8  \n3  \"Mozilla/5.0 (Windows NT 6.1; WOW64) AppleWebK...       8  \n4  \"Mozilla/5.0 (Windows NT 6.1; WOW64) AppleWebK...       8  "
     },
     "execution_count": 40,
     "metadata": {},
     "output_type": "execute_result"
    }
   ],
   "source": [
    "df=pd.read_json(log_files[0], lines=True)\n",
    "df.head()"
   ]
  },
  {
   "cell_type": "code",
   "execution_count": 41,
   "metadata": {},
   "outputs": [
    {
     "data": {
      "text/html": "<div>\n<style scoped>\n    .dataframe tbody tr th:only-of-type {\n        vertical-align: middle;\n    }\n\n    .dataframe tbody tr th {\n        vertical-align: top;\n    }\n\n    .dataframe thead th {\n        text-align: right;\n    }\n</style>\n<table border=\"1\" class=\"dataframe\">\n  <thead>\n    <tr style=\"text-align: right;\">\n      <th></th>\n      <th>artist</th>\n      <th>auth</th>\n      <th>firstName</th>\n      <th>gender</th>\n      <th>itemInSession</th>\n      <th>lastName</th>\n      <th>length</th>\n      <th>level</th>\n      <th>location</th>\n      <th>method</th>\n      <th>page</th>\n      <th>registration</th>\n      <th>sessionId</th>\n      <th>song</th>\n      <th>status</th>\n      <th>ts</th>\n      <th>userAgent</th>\n      <th>userId</th>\n      <th>epoch</th>\n    </tr>\n  </thead>\n  <tbody>\n    <tr>\n      <th>0</th>\n      <td>Des'ree</td>\n      <td>Logged In</td>\n      <td>Kaylee</td>\n      <td>F</td>\n      <td>1</td>\n      <td>Summers</td>\n      <td>246.30812</td>\n      <td>free</td>\n      <td>Phoenix-Mesa-Scottsdale, AZ</td>\n      <td>PUT</td>\n      <td>NextSong</td>\n      <td>1540344794796</td>\n      <td>139</td>\n      <td>You Gotta Be</td>\n      <td>200</td>\n      <td>1970-01-01 00:25:41.105830796</td>\n      <td>\"Mozilla/5.0 (Windows NT 6.1; WOW64) AppleWebK...</td>\n      <td>8</td>\n      <td>1541106106796</td>\n    </tr>\n    <tr>\n      <th>1</th>\n      <td>Mr Oizo</td>\n      <td>Logged In</td>\n      <td>Kaylee</td>\n      <td>F</td>\n      <td>3</td>\n      <td>Summers</td>\n      <td>144.03873</td>\n      <td>free</td>\n      <td>Phoenix-Mesa-Scottsdale, AZ</td>\n      <td>PUT</td>\n      <td>NextSong</td>\n      <td>1540344794796</td>\n      <td>139</td>\n      <td>Flat 55</td>\n      <td>200</td>\n      <td>1970-01-01 00:25:41.106106796</td>\n      <td>\"Mozilla/5.0 (Windows NT 6.1; WOW64) AppleWebK...</td>\n      <td>8</td>\n      <td>1541106352796</td>\n    </tr>\n    <tr>\n      <th>2</th>\n      <td>Tamba Trio</td>\n      <td>Logged In</td>\n      <td>Kaylee</td>\n      <td>F</td>\n      <td>4</td>\n      <td>Summers</td>\n      <td>177.18812</td>\n      <td>free</td>\n      <td>Phoenix-Mesa-Scottsdale, AZ</td>\n      <td>PUT</td>\n      <td>NextSong</td>\n      <td>1540344794796</td>\n      <td>139</td>\n      <td>Quem Quiser Encontrar O Amor</td>\n      <td>200</td>\n      <td>1970-01-01 00:25:41.106106796</td>\n      <td>\"Mozilla/5.0 (Windows NT 6.1; WOW64) AppleWebK...</td>\n      <td>8</td>\n      <td>1541106496796</td>\n    </tr>\n    <tr>\n      <th>3</th>\n      <td>The Mars Volta</td>\n      <td>Logged In</td>\n      <td>Kaylee</td>\n      <td>F</td>\n      <td>5</td>\n      <td>Summers</td>\n      <td>380.42077</td>\n      <td>free</td>\n      <td>Phoenix-Mesa-Scottsdale, AZ</td>\n      <td>PUT</td>\n      <td>NextSong</td>\n      <td>1540344794796</td>\n      <td>139</td>\n      <td>Eriatarka</td>\n      <td>200</td>\n      <td>1970-01-01 00:25:41.106132796</td>\n      <td>\"Mozilla/5.0 (Windows NT 6.1; WOW64) AppleWebK...</td>\n      <td>8</td>\n      <td>1541106673796</td>\n    </tr>\n    <tr>\n      <th>4</th>\n      <td>Infected Mushroom</td>\n      <td>Logged In</td>\n      <td>Kaylee</td>\n      <td>F</td>\n      <td>6</td>\n      <td>Summers</td>\n      <td>440.26730</td>\n      <td>free</td>\n      <td>Phoenix-Mesa-Scottsdale, AZ</td>\n      <td>PUT</td>\n      <td>NextSong</td>\n      <td>1540344794796</td>\n      <td>139</td>\n      <td>Becoming Insane</td>\n      <td>200</td>\n      <td>1970-01-01 00:25:41.106352796</td>\n      <td>\"Mozilla/5.0 (Windows NT 6.1; WOW64) AppleWebK...</td>\n      <td>8</td>\n      <td>1541107053796</td>\n    </tr>\n  </tbody>\n</table>\n</div>",
      "text/plain": "              artist       auth firstName gender  itemInSession lastName  \\\n0            Des'ree  Logged In    Kaylee      F              1  Summers   \n1            Mr Oizo  Logged In    Kaylee      F              3  Summers   \n2         Tamba Trio  Logged In    Kaylee      F              4  Summers   \n3     The Mars Volta  Logged In    Kaylee      F              5  Summers   \n4  Infected Mushroom  Logged In    Kaylee      F              6  Summers   \n\n      length level                     location method      page  \\\n0  246.30812  free  Phoenix-Mesa-Scottsdale, AZ    PUT  NextSong   \n1  144.03873  free  Phoenix-Mesa-Scottsdale, AZ    PUT  NextSong   \n2  177.18812  free  Phoenix-Mesa-Scottsdale, AZ    PUT  NextSong   \n3  380.42077  free  Phoenix-Mesa-Scottsdale, AZ    PUT  NextSong   \n4  440.26730  free  Phoenix-Mesa-Scottsdale, AZ    PUT  NextSong   \n\n    registration  sessionId                          song  status  \\\n0  1540344794796        139                  You Gotta Be     200   \n1  1540344794796        139                       Flat 55     200   \n2  1540344794796        139  Quem Quiser Encontrar O Amor     200   \n3  1540344794796        139                     Eriatarka     200   \n4  1540344794796        139               Becoming Insane     200   \n\n                             ts  \\\n0 1970-01-01 00:25:41.105830796   \n1 1970-01-01 00:25:41.106106796   \n2 1970-01-01 00:25:41.106106796   \n3 1970-01-01 00:25:41.106132796   \n4 1970-01-01 00:25:41.106352796   \n\n                                           userAgent  userId          epoch  \n0  \"Mozilla/5.0 (Windows NT 6.1; WOW64) AppleWebK...       8  1541106106796  \n1  \"Mozilla/5.0 (Windows NT 6.1; WOW64) AppleWebK...       8  1541106352796  \n2  \"Mozilla/5.0 (Windows NT 6.1; WOW64) AppleWebK...       8  1541106496796  \n3  \"Mozilla/5.0 (Windows NT 6.1; WOW64) AppleWebK...       8  1541106673796  \n4  \"Mozilla/5.0 (Windows NT 6.1; WOW64) AppleWebK...       8  1541107053796  "
     },
     "execution_count": 41,
     "metadata": {},
     "output_type": "execute_result"
    }
   ],
   "source": [
    "t = df[df['page']=='NextSong'].copy().reset_index(drop=True)\n",
    "t['epoch']=t['ts']\n",
    "t['ts']=pd.to_datetime(df['ts'])\n",
    "\n",
    "t.head()"
   ]
  },
  {
   "cell_type": "code",
   "execution_count": 42,
   "metadata": {},
   "outputs": [],
   "source": [
    "time_data=[t['ts'].values,\n",
    "           t['ts'].dt.hour.values, \n",
    "           t['ts'].dt.day.values, \n",
    "           t['ts'].dt.week.values, \n",
    "           t['ts'].dt.month.values, \n",
    "           t['ts'].dt.year.values, \n",
    "           t['ts'].dt.weekday.values,\n",
    "           t['epoch'].values]\n",
    "            \n",
    "column_labels = ['timestamp',\n",
    "                 'hour',\n",
    "                 'day_of_year',\n",
    "                 'week_of_year',\n",
    "                 'month',\n",
    "                 'year',\n",
    "                 'weekday',\n",
    "                 'epoch']"
   ]
  },
  {
   "cell_type": "code",
   "execution_count": 43,
   "metadata": {},
   "outputs": [
    {
     "data": {
      "text/plain": "[array(['1970-01-01T00:25:41.105830796', '1970-01-01T00:25:41.106106796',\n        '1970-01-01T00:25:41.106106796', '1970-01-01T00:25:41.106132796',\n        '1970-01-01T00:25:41.106352796', '1970-01-01T00:25:41.106496796',\n        '1970-01-01T00:25:41.106673796', '1970-01-01T00:25:41.107053796',\n        '1970-01-01T00:25:41.107493796', '1970-01-01T00:25:41.107734796',\n        '1970-01-01T00:25:41.108520796'], dtype='datetime64[ns]'),\n array([0, 0, 0, 0, 0, 0, 0, 0, 0, 0, 0], dtype=int64),\n array([1, 1, 1, 1, 1, 1, 1, 1, 1, 1, 1], dtype=int64),\n array([1, 1, 1, 1, 1, 1, 1, 1, 1, 1, 1], dtype=int64),\n array([1, 1, 1, 1, 1, 1, 1, 1, 1, 1, 1], dtype=int64),\n array([1970, 1970, 1970, 1970, 1970, 1970, 1970, 1970, 1970, 1970, 1970],\n       dtype=int64),\n array([3, 3, 3, 3, 3, 3, 3, 3, 3, 3, 3], dtype=int64),\n array([1541106106796, 1541106352796, 1541106496796, 1541106673796,\n        1541107053796, 1541107493796, 1541107734796, 1541108520796,\n        1541109125796, 1541109325796, 1541110994796], dtype=int64)]"
     },
     "execution_count": 43,
     "metadata": {},
     "output_type": "execute_result"
    }
   ],
   "source": [
    "time_data"
   ]
  },
  {
   "cell_type": "code",
   "execution_count": 44,
   "metadata": {},
   "outputs": [
    {
     "data": {
      "text/html": "<div>\n<style scoped>\n    .dataframe tbody tr th:only-of-type {\n        vertical-align: middle;\n    }\n\n    .dataframe tbody tr th {\n        vertical-align: top;\n    }\n\n    .dataframe thead th {\n        text-align: right;\n    }\n</style>\n<table border=\"1\" class=\"dataframe\">\n  <thead>\n    <tr style=\"text-align: right;\">\n      <th></th>\n      <th>timestamp</th>\n      <th>hour</th>\n      <th>day_of_year</th>\n      <th>week_of_year</th>\n      <th>month</th>\n      <th>year</th>\n      <th>weekday</th>\n      <th>epoch</th>\n    </tr>\n  </thead>\n  <tbody>\n    <tr>\n      <th>0</th>\n      <td>1970-01-01 00:25:41.105830796</td>\n      <td>0</td>\n      <td>1</td>\n      <td>1</td>\n      <td>1</td>\n      <td>1970</td>\n      <td>3</td>\n      <td>1541106106796</td>\n    </tr>\n    <tr>\n      <th>1</th>\n      <td>1970-01-01 00:25:41.106106796</td>\n      <td>0</td>\n      <td>1</td>\n      <td>1</td>\n      <td>1</td>\n      <td>1970</td>\n      <td>3</td>\n      <td>1541106352796</td>\n    </tr>\n    <tr>\n      <th>2</th>\n      <td>1970-01-01 00:25:41.106106796</td>\n      <td>0</td>\n      <td>1</td>\n      <td>1</td>\n      <td>1</td>\n      <td>1970</td>\n      <td>3</td>\n      <td>1541106496796</td>\n    </tr>\n    <tr>\n      <th>3</th>\n      <td>1970-01-01 00:25:41.106132796</td>\n      <td>0</td>\n      <td>1</td>\n      <td>1</td>\n      <td>1</td>\n      <td>1970</td>\n      <td>3</td>\n      <td>1541106673796</td>\n    </tr>\n    <tr>\n      <th>4</th>\n      <td>1970-01-01 00:25:41.106352796</td>\n      <td>0</td>\n      <td>1</td>\n      <td>1</td>\n      <td>1</td>\n      <td>1970</td>\n      <td>3</td>\n      <td>1541107053796</td>\n    </tr>\n  </tbody>\n</table>\n</div>",
      "text/plain": "                      timestamp  hour  day_of_year  week_of_year  month  year  \\\n0 1970-01-01 00:25:41.105830796     0            1             1      1  1970   \n1 1970-01-01 00:25:41.106106796     0            1             1      1  1970   \n2 1970-01-01 00:25:41.106106796     0            1             1      1  1970   \n3 1970-01-01 00:25:41.106132796     0            1             1      1  1970   \n4 1970-01-01 00:25:41.106352796     0            1             1      1  1970   \n\n   weekday          epoch  \n0        3  1541106106796  \n1        3  1541106352796  \n2        3  1541106496796  \n3        3  1541106673796  \n4        3  1541107053796  "
     },
     "execution_count": 44,
     "metadata": {},
     "output_type": "execute_result"
    }
   ],
   "source": [
    "#time_df=pd.DataFrame(data=time_data, index=column_labels).transpose()\n",
    "#time_df.head()\n",
    "\n",
    "dic_time = dict(zip(column_labels, time_data)) # creating a dictionary\n",
    "time_df = pd.DataFrame.from_dict(dic_time)\n",
    "time_df.head()"
   ]
  },
  {
   "cell_type": "markdown",
   "metadata": {},
   "source": [
    "#### Insert Records into Time Table\n",
    "Implement the `time_table_insert` query in `sql_queries.py` and run the cell below to insert records for the timestamps in this log file into the `time` table. Remember to run `create_tables.py` before running the cell below to ensure you've created/resetted the `time` table in the sparkify database."
   ]
  },
  {
   "source": [
    "for i, row in time_df.iterrows():\n",
    "    cur.execute(time_table_insert, list(row))\n",
    "    conn.commit()"
   ],
   "cell_type": "code",
   "outputs": [],
   "metadata": {},
   "execution_count": 46
  },
  {
   "cell_type": "markdown",
   "metadata": {},
   "source": [
    "Run `test.ipynb` to see if you've successfully added records to this table."
   ]
  },
  {
   "cell_type": "markdown",
   "metadata": {},
   "source": [
    "## #4: `users` Table\n",
    "#### Extract Data for Users Table\n",
    "- Select columns for user ID, first name, last name, gender and level and set to `user_df`"
   ]
  },
  {
   "source": [
    "user_df = df[['userId','firstName','lastName','gender','level']].copy()"
   ],
   "cell_type": "code",
   "outputs": [],
   "metadata": {},
   "execution_count": 47
  },
  {
   "source": [
    "df.dtypes"
   ],
   "cell_type": "code",
   "outputs": [
    {
     "output_type": "execute_result",
     "data": {
      "text/plain": "artist            object\nauth              object\nfirstName         object\ngender            object\nitemInSession      int64\nlastName          object\nlength           float64\nlevel             object\nlocation          object\nmethod            object\npage              object\nregistration       int64\nsessionId          int64\nsong              object\nstatus             int64\nts                 int64\nuserAgent         object\nuserId             int64\ndtype: object"
     },
     "metadata": {},
     "execution_count": 48
    }
   ],
   "metadata": {},
   "execution_count": 48
  },
  {
   "source": [
    "df.head()"
   ],
   "cell_type": "code",
   "outputs": [
    {
     "output_type": "execute_result",
     "data": {
      "text/plain": "    artist       auth firstName gender  itemInSession lastName     length  \\\n0     None  Logged In    Walter      M              0     Frye        NaN   \n1     None  Logged In    Kaylee      F              0  Summers        NaN   \n2  Des'ree  Logged In    Kaylee      F              1  Summers  246.30812   \n3     None  Logged In    Kaylee      F              2  Summers        NaN   \n4  Mr Oizo  Logged In    Kaylee      F              3  Summers  144.03873   \n\n  level                           location method      page   registration  \\\n0  free  San Francisco-Oakland-Hayward, CA    GET      Home  1540919166796   \n1  free        Phoenix-Mesa-Scottsdale, AZ    GET      Home  1540344794796   \n2  free        Phoenix-Mesa-Scottsdale, AZ    PUT  NextSong  1540344794796   \n3  free        Phoenix-Mesa-Scottsdale, AZ    GET   Upgrade  1540344794796   \n4  free        Phoenix-Mesa-Scottsdale, AZ    PUT  NextSong  1540344794796   \n\n   sessionId          song  status             ts  \\\n0         38          None     200  1541105830796   \n1        139          None     200  1541106106796   \n2        139  You Gotta Be     200  1541106106796   \n3        139          None     200  1541106132796   \n4        139       Flat 55     200  1541106352796   \n\n                                           userAgent  userId  \n0  \"Mozilla/5.0 (Macintosh; Intel Mac OS X 10_9_4...      39  \n1  \"Mozilla/5.0 (Windows NT 6.1; WOW64) AppleWebK...       8  \n2  \"Mozilla/5.0 (Windows NT 6.1; WOW64) AppleWebK...       8  \n3  \"Mozilla/5.0 (Windows NT 6.1; WOW64) AppleWebK...       8  \n4  \"Mozilla/5.0 (Windows NT 6.1; WOW64) AppleWebK...       8  ",
      "text/html": "<div>\n<style scoped>\n    .dataframe tbody tr th:only-of-type {\n        vertical-align: middle;\n    }\n\n    .dataframe tbody tr th {\n        vertical-align: top;\n    }\n\n    .dataframe thead th {\n        text-align: right;\n    }\n</style>\n<table border=\"1\" class=\"dataframe\">\n  <thead>\n    <tr style=\"text-align: right;\">\n      <th></th>\n      <th>artist</th>\n      <th>auth</th>\n      <th>firstName</th>\n      <th>gender</th>\n      <th>itemInSession</th>\n      <th>lastName</th>\n      <th>length</th>\n      <th>level</th>\n      <th>location</th>\n      <th>method</th>\n      <th>page</th>\n      <th>registration</th>\n      <th>sessionId</th>\n      <th>song</th>\n      <th>status</th>\n      <th>ts</th>\n      <th>userAgent</th>\n      <th>userId</th>\n    </tr>\n  </thead>\n  <tbody>\n    <tr>\n      <th>0</th>\n      <td>None</td>\n      <td>Logged In</td>\n      <td>Walter</td>\n      <td>M</td>\n      <td>0</td>\n      <td>Frye</td>\n      <td>NaN</td>\n      <td>free</td>\n      <td>San Francisco-Oakland-Hayward, CA</td>\n      <td>GET</td>\n      <td>Home</td>\n      <td>1540919166796</td>\n      <td>38</td>\n      <td>None</td>\n      <td>200</td>\n      <td>1541105830796</td>\n      <td>\"Mozilla/5.0 (Macintosh; Intel Mac OS X 10_9_4...</td>\n      <td>39</td>\n    </tr>\n    <tr>\n      <th>1</th>\n      <td>None</td>\n      <td>Logged In</td>\n      <td>Kaylee</td>\n      <td>F</td>\n      <td>0</td>\n      <td>Summers</td>\n      <td>NaN</td>\n      <td>free</td>\n      <td>Phoenix-Mesa-Scottsdale, AZ</td>\n      <td>GET</td>\n      <td>Home</td>\n      <td>1540344794796</td>\n      <td>139</td>\n      <td>None</td>\n      <td>200</td>\n      <td>1541106106796</td>\n      <td>\"Mozilla/5.0 (Windows NT 6.1; WOW64) AppleWebK...</td>\n      <td>8</td>\n    </tr>\n    <tr>\n      <th>2</th>\n      <td>Des'ree</td>\n      <td>Logged In</td>\n      <td>Kaylee</td>\n      <td>F</td>\n      <td>1</td>\n      <td>Summers</td>\n      <td>246.30812</td>\n      <td>free</td>\n      <td>Phoenix-Mesa-Scottsdale, AZ</td>\n      <td>PUT</td>\n      <td>NextSong</td>\n      <td>1540344794796</td>\n      <td>139</td>\n      <td>You Gotta Be</td>\n      <td>200</td>\n      <td>1541106106796</td>\n      <td>\"Mozilla/5.0 (Windows NT 6.1; WOW64) AppleWebK...</td>\n      <td>8</td>\n    </tr>\n    <tr>\n      <th>3</th>\n      <td>None</td>\n      <td>Logged In</td>\n      <td>Kaylee</td>\n      <td>F</td>\n      <td>2</td>\n      <td>Summers</td>\n      <td>NaN</td>\n      <td>free</td>\n      <td>Phoenix-Mesa-Scottsdale, AZ</td>\n      <td>GET</td>\n      <td>Upgrade</td>\n      <td>1540344794796</td>\n      <td>139</td>\n      <td>None</td>\n      <td>200</td>\n      <td>1541106132796</td>\n      <td>\"Mozilla/5.0 (Windows NT 6.1; WOW64) AppleWebK...</td>\n      <td>8</td>\n    </tr>\n    <tr>\n      <th>4</th>\n      <td>Mr Oizo</td>\n      <td>Logged In</td>\n      <td>Kaylee</td>\n      <td>F</td>\n      <td>3</td>\n      <td>Summers</td>\n      <td>144.03873</td>\n      <td>free</td>\n      <td>Phoenix-Mesa-Scottsdale, AZ</td>\n      <td>PUT</td>\n      <td>NextSong</td>\n      <td>1540344794796</td>\n      <td>139</td>\n      <td>Flat 55</td>\n      <td>200</td>\n      <td>1541106352796</td>\n      <td>\"Mozilla/5.0 (Windows NT 6.1; WOW64) AppleWebK...</td>\n      <td>8</td>\n    </tr>\n  </tbody>\n</table>\n</div>"
     },
     "metadata": {},
     "execution_count": 49
    }
   ],
   "metadata": {},
   "execution_count": 49
  },
  {
   "cell_type": "code",
   "execution_count": null,
   "metadata": {},
   "outputs": [],
   "source": []
  },
  {
   "cell_type": "markdown",
   "metadata": {},
   "source": [
    "#### Insert Records into Users Table\n",
    "Implement the `user_table_insert` query in `sql_queries.py` and run the cell below to insert records for the users in this log file into the `users` table. Remember to run `create_tables.py` before running the cell below to ensure you've created/resetted the `users` table in the sparkify database."
   ]
  },
  {
   "source": [
    "for i, row in user_df.iterrows():\n",
    "    cur.execute(user_table_insert, row)\n",
    "    conn.commit()"
   ],
   "cell_type": "code",
   "outputs": [],
   "metadata": {},
   "execution_count": 50
  },
  {
   "cell_type": "markdown",
   "metadata": {},
   "source": [
    "Run `test.ipynb` to see if you've successfully added records to this table."
   ]
  },
  {
   "cell_type": "markdown",
   "metadata": {},
   "source": [
    "## #5: `songplays` Table\n",
    "#### Extract Data and Songplays Table\n",
    "This one is a little more complicated since information from the songs table, artists table, and original log file are all needed for the `songplays` table. Since the log file does not specify an ID for either the song or the artist, you'll need to get the song ID and artist ID by querying the songs and artists tables to find matches based on song title, artist name, and song duration time.\n",
    "- Implement the `song_select` query in `sql_queries.py` to find the song ID and artist ID based on the title, artist name, and duration of a song.\n",
    "- Select the timestamp, user ID, level, song ID, artist ID, session ID, location, and user agent and set to `songplay_data`\n",
    "\n",
    "#### Insert Records into Songplays Table\n",
    "- Implement the `songplay_table_insert` query and run the cell below to insert records for the songplay actions in this log file into the `songplays` table. Remember to run `create_tables.py` before running the cell below to ensure you've created/resetted the `songplays` table in the sparkify database."
   ]
  },
  {
   "source": [
    "df['ts'] = pd.to_datetime(df['ts'])"
   ],
   "cell_type": "code",
   "outputs": [],
   "metadata": {},
   "execution_count": 51
  },
  {
   "source": [
    "for index, row in df.iterrows():\n",
    "\n",
    "    # get songid and artistid from song and artist tables\n",
    "    results = cur.execute(song_select, (row.song, row.artist, row.length))\n",
    "    songid, artistid = results if results else None, None\n",
    "    # insert songplay record\n",
    "    songplay_data = (index, row['ts'], row['userId'], row['level'], songid, \n",
    "                     artistid, row['sessionId'], row['location'], row['userAgent'])\n",
    "    cur.execute(songplay_table_insert, songplay_data)\n",
    "    conn.commit()\n",
    ""
   ],
   "cell_type": "code",
   "outputs": [],
   "metadata": {},
   "execution_count": 52
  },
  {
   "source": [
    "#conn = psycopg2.connect(\"host=127.0.0.1 dbname=sparkifydb user=postgres password=postgres\")\n",
    "#cur = conn.cursor()\n",
    "#cur.execute(songplay_table_insert, songplay_data)\n",
    "#conn.commit()"
   ],
   "cell_type": "code",
   "outputs": [],
   "metadata": {},
   "execution_count": 53
  },
  {
   "source": [
    "df.dtypes"
   ],
   "cell_type": "code",
   "outputs": [
    {
     "output_type": "execute_result",
     "data": {
      "text/plain": "artist                   object\nauth                     object\nfirstName                object\ngender                   object\nitemInSession             int64\nlastName                 object\nlength                  float64\nlevel                    object\nlocation                 object\nmethod                   object\npage                     object\nregistration              int64\nsessionId                 int64\nsong                     object\nstatus                    int64\nts               datetime64[ns]\nuserAgent                object\nuserId                    int64\ndtype: object"
     },
     "metadata": {},
     "execution_count": 54
    }
   ],
   "metadata": {},
   "execution_count": 54
  },
  {
   "cell_type": "markdown",
   "metadata": {},
   "source": [
    "Run `test.ipynb` to see if you've successfully added records to this table."
   ]
  },
  {
   "cell_type": "markdown",
   "metadata": {},
   "source": [
    "# Close Connection to Sparkify Database"
   ]
  },
  {
   "source": [
    "conn.close()"
   ],
   "cell_type": "code",
   "outputs": [],
   "metadata": {},
   "execution_count": 55
  },
  {
   "cell_type": "markdown",
   "metadata": {},
   "source": [
    "# Implement `etl.py`\n",
    "Use what you've completed in this notebook to implement `etl.py`."
   ]
  },
  {
   "cell_type": "code",
   "execution_count": null,
   "metadata": {},
   "outputs": [],
   "source": []
  }
 ],
 "metadata": {
  "kernelspec": {
   "display_name": "Python 3.6.3 64-bit",
   "language": "python",
   "name": "python36364bit42e2586362ca46e7a713603abb5bd65f"
  },
  "language_info": {
   "codemirror_mode": {
    "name": "ipython",
    "version": 3
   },
   "file_extension": ".py",
   "mimetype": "text/x-python",
   "name": "python",
   "nbconvert_exporter": "python",
   "pygments_lexer": "ipython3",
   "version": "3.6.3-final"
  }
 },
 "nbformat": 4,
 "nbformat_minor": 2
}